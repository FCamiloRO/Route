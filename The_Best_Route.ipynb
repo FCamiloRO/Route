{
  "nbformat": 4,
  "nbformat_minor": 0,
  "metadata": {
    "colab": {
      "provenance": [],
      "authorship_tag": "ABX9TyN599TFyVNLUGGAGqiCIDry",
      "include_colab_link": true
    },
    "kernelspec": {
      "name": "python3",
      "display_name": "Python 3"
    },
    "language_info": {
      "name": "python"
    }
  },
  "cells": [
    {
      "cell_type": "markdown",
      "metadata": {
        "id": "view-in-github",
        "colab_type": "text"
      },
      "source": [
        "<a href=\"https://colab.research.google.com/github/FCamiloRO/Route/blob/main/The_Best_Route.ipynb\" target=\"_parent\"><img src=\"https://colab.research.google.com/assets/colab-badge.svg\" alt=\"Open In Colab\"/></a>"
      ]
    },
    {
      "cell_type": "code",
      "source": [
        "import heapq\n",
        "\n",
        "class GrafoTransporte:\n",
        "    def __init__(self):\n",
        "        self.grafo = {}\n",
        "\n",
        "    def agregar_conexion(self, origen, destino, distancia):\n",
        "        if origen not in self.grafo:\n",
        "            self.grafo[origen] = {}\n",
        "        self.grafo[origen][destino] = distancia\n",
        "\n",
        "        if destino not in self.grafo:\n",
        "            self.grafo[destino] = {}\n",
        "        self.grafo[destino][origen] = distancia\n",
        "\n",
        "    def obtener_conexiones(self, nodo):\n",
        "        return self.grafo.get(nodo, {})\n",
        "\n",
        "def dijkstra(grafo, origen, destino):\n",
        "    cola = [(0, origen)]\n",
        "    distancias = {nodo: float('inf') for nodo in grafo.grafo}  # Modificar aquí\n",
        "    distancias[origen] = 0\n",
        "    visitados = set()\n",
        "\n",
        "    while cola:\n",
        "        distancia, nodo_actual = heapq.heappop(cola)\n",
        "\n",
        "        if nodo_actual == destino:\n",
        "            return distancias[destino]\n",
        "\n",
        "        if nodo_actual in visitados:\n",
        "            continue\n",
        "\n",
        "        visitados.add(nodo_actual)\n",
        "\n",
        "        for vecino, costo_vecino in grafo.obtener_conexiones(nodo_actual).items():\n",
        "            nueva_distancia = distancia + costo_vecino\n",
        "            if nueva_distancia < distancias[vecino]:\n",
        "                distancias[vecino] = nueva_distancia\n",
        "                heapq.heappush(cola, (nueva_distancia, vecino))\n",
        "\n",
        "    return float('inf')\n",
        "\n",
        "# Ejemplo de uso\n",
        "grafo_transporte = GrafoTransporte()\n",
        "grafo_transporte.agregar_conexion('A', 'B', 5)\n",
        "grafo_transporte.agregar_conexion('B', 'C', 3)\n",
        "grafo_transporte.agregar_conexion('C', 'D', 4)\n",
        "grafo_transporte.agregar_conexion('A', 'E', 2)\n",
        "grafo_transporte.agregar_conexion('E', 'D', 8)\n",
        "grafo_transporte.agregar_conexion('B', 'F', 7)\n",
        "grafo_transporte.agregar_conexion('F', 'G', 3)\n",
        "grafo_transporte.agregar_conexion('G', 'D', 6)\n",
        "grafo_transporte.agregar_conexion('A', 'H', 3)\n",
        "grafo_transporte.agregar_conexion('H', 'I', 2)\n",
        "grafo_transporte.agregar_conexion('I', 'D', 4)\n",
        "\n",
        "inicio = 'A'\n",
        "destino = 'G'\n",
        "\n",
        "costo_total = dijkstra(grafo_transporte, inicio, destino)\n",
        "if costo_total != float('inf'):\n",
        "    print(f\"La distancia total de la mejor ruta desde {inicio} hasta {destino} es: {costo_total}\")\n",
        "else:\n",
        "    print(f\"No se encontró una ruta desde {inicio} hasta {destino}\")\n",
        "\n",
        "\n"
      ],
      "metadata": {
        "colab": {
          "base_uri": "https://localhost:8080/"
        },
        "id": "mO0MWYhYulZZ",
        "outputId": "9a0e7d67-7336-41f3-e98a-4ea4559bbb99"
      },
      "execution_count": 5,
      "outputs": [
        {
          "output_type": "stream",
          "name": "stdout",
          "text": [
            "El costo total de la mejor ruta desde A hasta G es: 15\n"
          ]
        }
      ]
    },
    {
      "cell_type": "code",
      "source": [],
      "metadata": {
        "id": "NzoC98TtmaYl"
      },
      "execution_count": 3,
      "outputs": []
    }
  ]
}
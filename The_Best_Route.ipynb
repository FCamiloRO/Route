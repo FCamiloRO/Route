{
  "nbformat": 4,
  "nbformat_minor": 0,
  "metadata": {
    "colab": {
      "provenance": [],
      "authorship_tag": "ABX9TyP811ws7cL7ws1k6vH4MZ27",
      "include_colab_link": true
    },
    "kernelspec": {
      "name": "python3",
      "display_name": "Python 3"
    },
    "language_info": {
      "name": "python"
    }
  },
  "cells": [
    {
      "cell_type": "markdown",
      "metadata": {
        "id": "view-in-github",
        "colab_type": "text"
      },
      "source": [
        "<a href=\"https://colab.research.google.com/github/FCamiloRO/Route/blob/main/The_Best_Route.ipynb\" target=\"_parent\"><img src=\"https://colab.research.google.com/assets/colab-badge.svg\" alt=\"Open In Colab\"/></a>"
      ]
    },
    {
      "cell_type": "code",
      "source": [
        "# !pip install pyDatalog if do you don't have this library"
      ],
      "metadata": {
        "colab": {
          "base_uri": "https://localhost:8080/"
        },
        "id": "LRYByTisucyM",
        "outputId": "6b42d8d5-c052-4abf-bf2c-ac94eef4854b"
      },
      "execution_count": 18,
      "outputs": [
        {
          "output_type": "stream",
          "name": "stdout",
          "text": [
            "Collecting pyDatalog\n",
            "  Downloading pyDatalog-0.17.4-cp310-cp310-manylinux_2_17_x86_64.manylinux2014_x86_64.whl.metadata (2.6 kB)\n",
            "Downloading pyDatalog-0.17.4-cp310-cp310-manylinux_2_17_x86_64.manylinux2014_x86_64.whl (1.8 MB)\n",
            "\u001b[2K   \u001b[90m━━━━━━━━━━━━━━━━━━━━━━━━━━━━━━━━━━━━━━━━\u001b[0m \u001b[32m1.8/1.8 MB\u001b[0m \u001b[31m8.6 MB/s\u001b[0m eta \u001b[36m0:00:00\u001b[0m\n",
            "\u001b[?25hInstalling collected packages: pyDatalog\n",
            "Successfully installed pyDatalog-0.17.4\n",
            "\u001b[33mWARNING: Running pip as the 'root' user can result in broken permissions and conflicting behaviour with the system package manager. It is recommended to use a virtual environment instead: https://pip.pypa.io/warnings/venv\u001b[0m\u001b[33m\n",
            "\u001b[0m"
          ]
        }
      ]
    },
    {
      "cell_type": "code",
      "source": [
        "from pyDatalog import pyDatalog"
      ],
      "metadata": {
        "id": "TqQXbQ9duhy4"
      },
      "execution_count": 19,
      "outputs": []
    },
    {
      "cell_type": "code",
      "source": [
        "import heapq"
      ],
      "metadata": {
        "id": "8EFMWNk3-ZeT"
      },
      "execution_count": 36,
      "outputs": []
    },
    {
      "cell_type": "code",
      "source": [
        "\n",
        "\n",
        "class GrafoTransporte:\n",
        "    def __init__(self):\n",
        "        self.grafo = {}\n",
        "\n",
        "    def agregar_conexion(self, origen, destino, distancia):\n",
        "        if origen not in self.grafo:\n",
        "            self.grafo[origen] = {}\n",
        "        self.grafo[origen][destino] = distancia\n",
        "\n",
        "        if destino not in self.grafo:\n",
        "            self.grafo[destino] = {}\n",
        "        self.grafo[destino][origen] = distancia\n",
        "\n",
        "    def obtener_conexiones(self, nodo):\n",
        "        return self.grafo.get(nodo, {})\n",
        "\n",
        "def dijkstra(grafo, origen, destino):\n",
        "    cola = [(0, origen)]\n",
        "    distancias = {nodo: float('inf') for nodo in grafo.grafo}  # Modificar aquí\n",
        "    distancias[origen] = 0\n",
        "    visitados = set()\n",
        "\n",
        "    while cola:\n",
        "        distancia, nodo_actual = heapq.heappop(cola)\n",
        "\n",
        "        if nodo_actual == destino:\n",
        "            return distancias[destino]\n",
        "\n",
        "        if nodo_actual in visitados:\n",
        "            continue\n",
        "\n",
        "        visitados.add(nodo_actual)\n",
        "\n",
        "        for vecino, costo_vecino in grafo.obtener_conexiones(nodo_actual).items():\n",
        "            nueva_distancia = distancia + costo_vecino\n",
        "            if nueva_distancia < distancias[vecino]:\n",
        "                distancias[vecino] = nueva_distancia\n",
        "                heapq.heappush(cola, (nueva_distancia, vecino))\n",
        "\n",
        "    return float('inf')\n",
        "\n",
        "# Ejemplo de uso\n",
        "grafo_transporte = GrafoTransporte()\n",
        "grafo_transporte.agregar_conexion('A', 'B', 5)\n",
        "grafo_transporte.agregar_conexion('B', 'C', 3)\n",
        "grafo_transporte.agregar_conexion('C', 'D', 4)\n",
        "grafo_transporte.agregar_conexion('A', 'E', 2)\n",
        "grafo_transporte.agregar_conexion('E', 'D', 8)\n",
        "grafo_transporte.agregar_conexion('B', 'F', 7)\n",
        "grafo_transporte.agregar_conexion('F', 'G', 3)\n",
        "grafo_transporte.agregar_conexion('G', 'D', 6)\n",
        "grafo_transporte.agregar_conexion('A', 'H', 3)\n",
        "grafo_transporte.agregar_conexion('H', 'I', 2)\n",
        "grafo_transporte.agregar_conexion('I', 'D', 4)\n",
        "\n",
        "inicio = 'A'\n",
        "destino = 'D'\n",
        "\n",
        "costo_total = dijkstra(grafo_transporte, inicio, destino)\n",
        "if costo_total != float('inf'):\n",
        "    print(f\"El costo total de la mejor ruta desde {inicio} hasta {destino} es: {costo_total}\")\n",
        "else:\n",
        "    print(f\"No se encontró una ruta desde {inicio} hasta {destino}\")\n",
        "\n",
        "\n"
      ],
      "metadata": {
        "colab": {
          "base_uri": "https://localhost:8080/"
        },
        "id": "mO0MWYhYulZZ",
        "outputId": "3253c1d6-9a3a-4033-8eb0-3a11a8316e4c"
      },
      "execution_count": 38,
      "outputs": [
        {
          "output_type": "stream",
          "name": "stdout",
          "text": [
            "El costo total de la mejor ruta desde A hasta D es: 9\n"
          ]
        }
      ]
    }
  ]
}
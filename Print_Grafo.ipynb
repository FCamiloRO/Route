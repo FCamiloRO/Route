{
  "nbformat": 4,
  "nbformat_minor": 0,
  "metadata": {
    "colab": {
      "provenance": [],
      "authorship_tag": "ABX9TyNTttlL7jzwPyMwyC96kXr5",
      "include_colab_link": true
    },
    "kernelspec": {
      "name": "python3",
      "display_name": "Python 3"
    },
    "language_info": {
      "name": "python"
    }
  },
  "cells": [
    {
      "cell_type": "markdown",
      "metadata": {
        "id": "view-in-github",
        "colab_type": "text"
      },
      "source": [
        "<a href=\"https://colab.research.google.com/github/FCamiloRO/Route/blob/main/Print_Grafo.ipynb\" target=\"_parent\"><img src=\"https://colab.research.google.com/assets/colab-badge.svg\" alt=\"Open In Colab\"/></a>"
      ]
    },
    {
      "cell_type": "code",
      "execution_count": null,
      "metadata": {
        "id": "k8ChBIyszT-m"
      },
      "outputs": [],
      "source": [
        "import networkx as nx\n",
        "import matplotlib.pyplot as plt\n",
        "\n",
        "class GrafoTransporte:\n",
        "    def __init__(self):\n",
        "        self.grafo = {}\n",
        "\n",
        "    def agregar_conexion(self, origen, destino, distancia):\n",
        "        if origen not in self.grafo:\n",
        "            self.grafo[origen] = {}\n",
        "        self.grafo[origen][destino] = distancia\n",
        "\n",
        "        if destino not in self.grafo:\n",
        "            self.grafo[destino] = {}\n",
        "        self.grafo[destino][origen] = distancia\n",
        "\n",
        "    def obtener_conexiones(self, nodo):\n",
        "        return self.grafo.get(nodo, {})\n",
        "\n",
        "# Crear una instancia de la clase GrafoTransporte y agregar conexiones\n",
        "grafo_transporte = GrafoTransporte()\n",
        "grafo_transporte.agregar_conexion('A', 'B', 5)\n",
        "grafo_transporte.agregar_conexion('B', 'C', 3)\n",
        "grafo_transporte.agregar_conexion('C', 'D', 4)\n",
        "grafo_transporte.agregar_conexion('A', 'E', 2)\n",
        "grafo_transporte.agregar_conexion('E', 'D', 8)\n",
        "grafo_transporte.agregar_conexion('B', 'F', 7)\n",
        "grafo_transporte.agregar_conexion('F', 'G', 3)\n",
        "grafo_transporte.agregar_conexion('G', 'D', 6)\n",
        "grafo_transporte.agregar_conexion('A', 'H', 3)\n",
        "grafo_transporte.agregar_conexion('H', 'I', 2)\n",
        "grafo_transporte.agregar_conexion('I', 'D', 4)\n",
        "\n",
        "# Crear un grafo de NetworkX\n",
        "G = nx.Graph()\n",
        "\n",
        "# Agregar nodos al grafo\n",
        "nodos = grafo_transporte.grafo.keys()\n",
        "G.add_nodes_from(nodos)\n",
        "\n",
        "# Agregar aristas con sus respectivas distancias\n",
        "for origen, destinos in grafo_transporte.grafo.items():\n",
        "    for destino, distancia in destinos.items():\n",
        "        G.add_edge(origen, destino, weight=distancia)\n",
        "\n",
        "# Calcular las distancias mínimas entre todos los pares de nodos\n",
        "distancias_minimas = dict(nx.all_pairs_dijkstra_path_length(G))\n",
        "\n",
        "# Dibujar el grafo\n",
        "pos = nx.spring_layout(G)\n",
        "nx.draw(G, pos, with_labels=True, node_size=1000, node_color='skyblue', font_size=12, font_weight='bold')  # Dibujar nodos\n",
        "nx.draw_networkx_edge_labels(G, pos, font_color='red', edge_labels={(u, v): distancias_minimas[u][v] for u, v in G.edges()})  # Etiquetar aristas con distancias\n",
        "plt.title('Grafo de Transporte')\n",
        "plt.show()"
      ]
    }
  ]
}